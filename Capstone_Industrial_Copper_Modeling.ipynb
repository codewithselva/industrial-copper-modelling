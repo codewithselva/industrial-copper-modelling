{
  "cells": [
    {
      "cell_type": "markdown",
      "metadata": {
        "colab_type": "text",
        "id": "view-in-github"
      },
      "source": [
        "<a href=\"https://colab.research.google.com/github/codewithselva/industrial-copper-modelling/blob/main/Capstone_Industrial_Copper_Modeling.ipynb\" target=\"_parent\"><img src=\"https://colab.research.google.com/assets/colab-badge.svg\" alt=\"Open In Colab\"/></a>"
      ]
    },
    {
      "cell_type": "markdown",
      "metadata": {
        "id": "kzMt5JYAegNT"
      },
      "source": [
        "# **About the Data:**\n",
        "1. `id`: This column likely serves as a unique identifier for each transaction or item, which can be useful for tracking and record-keeping.\n",
        "2. `item_date`: This column represents the date when each transaction or item was recorded or occurred. It's important for tracking the timing of business activities.\n",
        "3. `quantity tons`: This column indicates the quantity of the item in tons, which is essential for inventory management and understanding the volume of products sold or produced.\n",
        "4. `customer`: The \"customer\" column refers to the name or identifier of the customer who either purchased or ordered the items. It's crucial for maintaining customer relationships and tracking sales.\n",
        "5. `country`: The \"country\" column specifies the country associated with each customer. This information can be useful for understanding the geographic distribution of customers and may have implications for logistics and international sales.\n",
        "6. `status`: The \"status\" column likely describes the current status of the transaction or item. This information can be used to track the progress of orders or transactions, such as \"Draft\" or \"Won.\"\n",
        "7. `item type`: This column categorizes the type or category of the items being sold or produced. Understanding item types is essential for inventory categorization and business reporting.\n",
        "8. `application`: The \"application\" column defines the specific use or application of the items. This information can help tailor marketing and product development efforts.\n",
        "9. `thickness`: The \"thickness\" column provides details about the thickness of the items. It's critical when dealing with materials where thickness is a significant factor, such as metals or construction materials.\n",
        "10. `width`: The \"width\" column specifies the width of the items. It's important for understanding the size and dimensions of the products.\n",
        "11. `material_ref`: This column appears to be a reference or identifier for the material used in the items. It's essential for tracking the source or composition of the products.\n",
        "12. `product_ref`: The \"product_ref\" column seems to be a reference or identifier for the specific product. This information is useful for identifying and cataloging products in a standardized way.\n",
        "13. `delivery date`: This column records the expected or actual delivery date for each item or transaction. It's crucial for managing logistics and ensuring timely delivery to customers.\n",
        "14. `selling_price`: The \"selling_price\" column represents the price at which the items are sold. This is a critical factor for revenue generation and profitability analysis."
      ]
    },
    {
      "cell_type": "markdown",
      "metadata": {
        "id": "amxsmVAQhgd2"
      },
      "source": [
        "**Approach: **\n",
        "1. Data Understanding: Identify the types of variables (continuous, categorical) and their distributions. Some rubbish values are present in ‘Material_Reference’ which starts with ‘00000’ value which should be converted into null. Treat reference columns as categorical variables. INDEX may not be useful.\n",
        "2. Data Preprocessing:\n",
        "Handle missing values with mean/median/mode.\n",
        "Treat Outliers using IQR or Isolation Forest from sklearn library.\n",
        "Identify Skewness in the dataset and treat skewness with appropriate data transformations, such as log transformation(which is best suited to transform target variable-train, predict and then reverse transform it back to original scale eg:dollars), boxcox transformation, or other techniques, to handle high skewness in continuous variables.\n",
        "Encode categorical variables using suitable techniques, such as one-hot encoding, label encoding, or ordinal encoding, based on their nature and relationship with the target variable.\n",
        "3. EDA: Try visualizing outliers and skewness(before and after treating skewness) using Seaborn’s boxplot, distplot, violinplot.\n",
        "4. Feature Engineering: Engineer new features if applicable, such as aggregating or transforming existing features to create more informative representations of the data. And drop highly correlated columns using SNS HEATMAP.\n",
        "5. Model Building and Evaluation:\n",
        "Split the dataset into training and testing/validation sets.\n",
        "Train and evaluate different classification models, such as ExtraTreesClassifier, XGBClassifier, or Logistic Regression, using appropriate evaluation metrics such as accuracy, precision, recall, F1 score, and AUC curve.\n",
        "Optimize model hyperparameters using techniques such as cross-validation and grid search to find the best-performing model.\n",
        "Interpret the model results and assess its performance based on the defined problem statement.\n",
        "Same steps for Regression modelling.(note: dataset contains more noise and linearity between independent variables so itll perform well only with tree based models)\n",
        "6. Model GUI: Using streamlit module, create interactive page with\n",
        "   (1) task input( Regression or Classification) and\n",
        "   (2) create an input field where you can enter each column value except ‘Selling_Price’ for regression model and  except ‘Status’ for classification model.\n",
        "   (3) perform the same feature engineering, scaling factors, log/any transformation steps which you used for training ml model and predict this new data from streamlit and display the output.\n",
        "7. Tips: Use pickle module to dump and load models such as encoder(onehot/ label/ str.cat.codes /etc), scaling models(standard scaler), ML models. First fit and then transform in separate line and use transform only for unseen data\n",
        "Eg: scaler = StandardScaler()\n",
        "scaler.fit(X_train)\n",
        "scaler.transform(X_train)\n",
        "scaler.transform(X_test_new) #unseen data\n"
      ]
    },
    {
      "cell_type": "code",
      "execution_count": 5,
      "metadata": {},
      "outputs": [
        {
          "name": "stdout",
          "output_type": "stream",
          "text": [
            "Requirement already satisfied: pandas in ./.venv/lib/python3.10/site-packages (2.2.0)\n",
            "Requirement already satisfied: numpy<2,>=1.22.4 in ./.venv/lib/python3.10/site-packages (from pandas) (1.26.4)\n",
            "Requirement already satisfied: python-dateutil>=2.8.2 in ./.venv/lib/python3.10/site-packages (from pandas) (2.8.2)\n",
            "Requirement already satisfied: pytz>=2020.1 in ./.venv/lib/python3.10/site-packages (from pandas) (2024.1)\n",
            "Requirement already satisfied: tzdata>=2022.7 in ./.venv/lib/python3.10/site-packages (from pandas) (2024.1)\n",
            "Requirement already satisfied: six>=1.5 in ./.venv/lib/python3.10/site-packages (from python-dateutil>=2.8.2->pandas) (1.16.0)\n",
            "Requirement already satisfied: numpy in ./.venv/lib/python3.10/site-packages (1.26.4)\n",
            "Collecting openpyxl\n",
            "  Downloading openpyxl-3.1.2-py2.py3-none-any.whl.metadata (2.5 kB)\n",
            "Collecting et-xmlfile (from openpyxl)\n",
            "  Downloading et_xmlfile-1.1.0-py3-none-any.whl (4.7 kB)\n",
            "Downloading openpyxl-3.1.2-py2.py3-none-any.whl (249 kB)\n",
            "\u001b[2K   \u001b[90m━━━━━━━━━━━━━━━━━━━━━━━━━━━━━━━━━━━━━━━━\u001b[0m \u001b[32m250.0/250.0 kB\u001b[0m \u001b[31m2.2 MB/s\u001b[0m eta \u001b[36m0:00:00\u001b[0m00:01\u001b[0m00:01\u001b[0m\n",
            "\u001b[?25hInstalling collected packages: et-xmlfile, openpyxl\n",
            "Successfully installed et-xmlfile-1.1.0 openpyxl-3.1.2\n"
          ]
        }
      ],
      "source": [
        "!pip install pandas\n",
        "!pip install numpy\n",
        "!pip install openpyxl"
      ]
    },
    {
      "cell_type": "code",
      "execution_count": 2,
      "metadata": {
        "id": "Mm9t-raWZc_6"
      },
      "outputs": [
        {
          "name": "stderr",
          "output_type": "stream",
          "text": [
            "/tmp/ipykernel_6842/3970330461.py:2: DeprecationWarning: \n",
            "Pyarrow will become a required dependency of pandas in the next major release of pandas (pandas 3.0),\n",
            "(to allow more performant data types, such as the Arrow string type, and better interoperability with other libraries)\n",
            "but was not found to be installed on your system.\n",
            "If this would cause problems for you,\n",
            "please provide us feedback at https://github.com/pandas-dev/pandas/issues/54466\n",
            "        \n",
            "  import pandas as pd\n"
          ]
        }
      ],
      "source": [
        "#import gdown\n",
        "import pandas as pd\n",
        "#import chardet\n",
        "import numpy as np"
      ]
    },
    {
      "cell_type": "code",
      "execution_count": null,
      "metadata": {
        "colab": {
          "base_uri": "https://localhost:8080/",
          "height": 105
        },
        "id": "r1pF-18gZhai",
        "outputId": "fab48fd4-a3a2-4cc7-b874-4d6eecfb0272"
      },
      "outputs": [],
      "source": [
        "# Google Drive file ID\n",
        "#file_id = \"18eR6DBe5TMWU9FnIewaGtsepDbV4BOyr\"\n",
        "\n",
        "# URL of the file on Google Drive\n",
        "#url = f'https://drive.google.com/uc?id={file_id}'\n",
        "\n",
        "# Destination file path to save the downloaded file\n",
        "#output_path = '/content/data.csv'\n",
        "\n",
        "# Download the file\n",
        "#gdown.download(url, output_path, quiet=False)"
      ]
    },
    {
      "cell_type": "code",
      "execution_count": 3,
      "metadata": {
        "id": "wMTskHScZ230"
      },
      "outputs": [],
      "source": [
        "excel_file_path = 'copper_data_set.xlsx'\n",
        "\n",
        "# Specify the sheet name or index\n",
        "sheet_name_or_index = 'Result 1'  # or use 0 for the first sheet\n",
        "\n",
        "# Read the Excel file with a specific sheet into a Pandas DataFrame\n",
        "df = pd.read_excel(excel_file_path, sheet_name=sheet_name_or_index)\n"
      ]
    },
    {
      "cell_type": "code",
      "execution_count": 4,
      "metadata": {
        "colab": {
          "base_uri": "https://localhost:8080/",
          "height": 486
        },
        "id": "B1w2BWe_Xfvg",
        "outputId": "a654f31b-50cc-4a4b-f0a1-9ab21c251f70"
      },
      "outputs": [
        {
          "data": {
            "text/html": [
              "<div>\n",
              "<style scoped>\n",
              "    .dataframe tbody tr th:only-of-type {\n",
              "        vertical-align: middle;\n",
              "    }\n",
              "\n",
              "    .dataframe tbody tr th {\n",
              "        vertical-align: top;\n",
              "    }\n",
              "\n",
              "    .dataframe thead th {\n",
              "        text-align: right;\n",
              "    }\n",
              "</style>\n",
              "<table border=\"1\" class=\"dataframe\">\n",
              "  <thead>\n",
              "    <tr style=\"text-align: right;\">\n",
              "      <th></th>\n",
              "      <th>id</th>\n",
              "      <th>item_date</th>\n",
              "      <th>quantity tons</th>\n",
              "      <th>customer</th>\n",
              "      <th>country</th>\n",
              "      <th>status</th>\n",
              "      <th>item type</th>\n",
              "      <th>application</th>\n",
              "      <th>thickness</th>\n",
              "      <th>width</th>\n",
              "      <th>material_ref</th>\n",
              "      <th>product_ref</th>\n",
              "      <th>delivery date</th>\n",
              "      <th>selling_price</th>\n",
              "    </tr>\n",
              "  </thead>\n",
              "  <tbody>\n",
              "    <tr>\n",
              "      <th>0</th>\n",
              "      <td>EC06F063-9DF0-440C-8764-0B0C05A4F6AE</td>\n",
              "      <td>20210401.0</td>\n",
              "      <td>54.151139</td>\n",
              "      <td>30156308.0</td>\n",
              "      <td>28.0</td>\n",
              "      <td>Won</td>\n",
              "      <td>W</td>\n",
              "      <td>10.0</td>\n",
              "      <td>2.00</td>\n",
              "      <td>1500.0</td>\n",
              "      <td>DEQ1 S460MC</td>\n",
              "      <td>1670798778</td>\n",
              "      <td>20210701.0</td>\n",
              "      <td>854.00</td>\n",
              "    </tr>\n",
              "    <tr>\n",
              "      <th>1</th>\n",
              "      <td>4E5F4B3D-DDDF-499D-AFDE-A3227EC49425</td>\n",
              "      <td>20210401.0</td>\n",
              "      <td>768.024839</td>\n",
              "      <td>30202938.0</td>\n",
              "      <td>25.0</td>\n",
              "      <td>Won</td>\n",
              "      <td>W</td>\n",
              "      <td>41.0</td>\n",
              "      <td>0.80</td>\n",
              "      <td>1210.0</td>\n",
              "      <td>0000000000000000000000000000000000104991</td>\n",
              "      <td>1668701718</td>\n",
              "      <td>20210401.0</td>\n",
              "      <td>1047.00</td>\n",
              "    </tr>\n",
              "    <tr>\n",
              "      <th>2</th>\n",
              "      <td>E140FF1B-2407-4C02-A0DD-780A093B1158</td>\n",
              "      <td>20210401.0</td>\n",
              "      <td>386.127949</td>\n",
              "      <td>30153963.0</td>\n",
              "      <td>30.0</td>\n",
              "      <td>Won</td>\n",
              "      <td>WI</td>\n",
              "      <td>28.0</td>\n",
              "      <td>0.38</td>\n",
              "      <td>952.0</td>\n",
              "      <td>S0380700</td>\n",
              "      <td>628377</td>\n",
              "      <td>20210101.0</td>\n",
              "      <td>644.33</td>\n",
              "    </tr>\n",
              "    <tr>\n",
              "      <th>3</th>\n",
              "      <td>F8D507A0-9C62-4EFE-831E-33E1DA53BB50</td>\n",
              "      <td>20210401.0</td>\n",
              "      <td>202.411065</td>\n",
              "      <td>30349574.0</td>\n",
              "      <td>32.0</td>\n",
              "      <td>Won</td>\n",
              "      <td>S</td>\n",
              "      <td>59.0</td>\n",
              "      <td>2.30</td>\n",
              "      <td>1317.0</td>\n",
              "      <td>DX51D+ZM310MAO 2.3X1317</td>\n",
              "      <td>1668701718</td>\n",
              "      <td>20210101.0</td>\n",
              "      <td>768.00</td>\n",
              "    </tr>\n",
              "    <tr>\n",
              "      <th>4</th>\n",
              "      <td>4E1C4E78-152B-430A-8094-ADD889C9D0AD</td>\n",
              "      <td>20210401.0</td>\n",
              "      <td>785.526262</td>\n",
              "      <td>30211560.0</td>\n",
              "      <td>28.0</td>\n",
              "      <td>Won</td>\n",
              "      <td>W</td>\n",
              "      <td>10.0</td>\n",
              "      <td>4.00</td>\n",
              "      <td>2000.0</td>\n",
              "      <td>2_S275JR+AR-CL1</td>\n",
              "      <td>640665</td>\n",
              "      <td>20210301.0</td>\n",
              "      <td>577.00</td>\n",
              "    </tr>\n",
              "  </tbody>\n",
              "</table>\n",
              "</div>"
            ],
            "text/plain": [
              "                                     id   item_date quantity tons    customer  \\\n",
              "0  EC06F063-9DF0-440C-8764-0B0C05A4F6AE  20210401.0     54.151139  30156308.0   \n",
              "1  4E5F4B3D-DDDF-499D-AFDE-A3227EC49425  20210401.0    768.024839  30202938.0   \n",
              "2  E140FF1B-2407-4C02-A0DD-780A093B1158  20210401.0    386.127949  30153963.0   \n",
              "3  F8D507A0-9C62-4EFE-831E-33E1DA53BB50  20210401.0    202.411065  30349574.0   \n",
              "4  4E1C4E78-152B-430A-8094-ADD889C9D0AD  20210401.0    785.526262  30211560.0   \n",
              "\n",
              "   country status item type  application  thickness   width  \\\n",
              "0     28.0    Won         W         10.0       2.00  1500.0   \n",
              "1     25.0    Won         W         41.0       0.80  1210.0   \n",
              "2     30.0    Won        WI         28.0       0.38   952.0   \n",
              "3     32.0    Won         S         59.0       2.30  1317.0   \n",
              "4     28.0    Won         W         10.0       4.00  2000.0   \n",
              "\n",
              "                               material_ref  product_ref  delivery date  \\\n",
              "0                               DEQ1 S460MC   1670798778     20210701.0   \n",
              "1  0000000000000000000000000000000000104991   1668701718     20210401.0   \n",
              "2                                  S0380700       628377     20210101.0   \n",
              "3                   DX51D+ZM310MAO 2.3X1317   1668701718     20210101.0   \n",
              "4                           2_S275JR+AR-CL1       640665     20210301.0   \n",
              "\n",
              "   selling_price  \n",
              "0         854.00  \n",
              "1        1047.00  \n",
              "2         644.33  \n",
              "3         768.00  \n",
              "4         577.00  "
            ]
          },
          "execution_count": 4,
          "metadata": {},
          "output_type": "execute_result"
        }
      ],
      "source": [
        "# Display the first few rows of the DataFrame\n",
        "\n",
        "df.head()\n"
      ]
    },
    {
      "cell_type": "code",
      "execution_count": 5,
      "metadata": {
        "colab": {
          "base_uri": "https://localhost:8080/"
        },
        "id": "DY3i6Unlib11",
        "outputId": "24333dff-6552-43a5-fd8d-1a8a56ac4b6f"
      },
      "outputs": [
        {
          "data": {
            "text/plain": [
              "181673"
            ]
          },
          "execution_count": 5,
          "metadata": {},
          "output_type": "execute_result"
        }
      ],
      "source": [
        "# Total number of records in the data set\n",
        "\n",
        "len(df)"
      ]
    },
    {
      "cell_type": "code",
      "execution_count": 6,
      "metadata": {
        "colab": {
          "base_uri": "https://localhost:8080/"
        },
        "id": "ZSR_ZU1TdXry",
        "outputId": "1a79ec27-6876-479c-f8f3-f647eaf63be5"
      },
      "outputs": [
        {
          "name": "stdout",
          "output_type": "stream",
          "text": [
            "<class 'pandas.core.frame.DataFrame'>\n",
            "RangeIndex: 181673 entries, 0 to 181672\n",
            "Data columns (total 14 columns):\n",
            " #   Column         Non-Null Count   Dtype  \n",
            "---  ------         --------------   -----  \n",
            " 0   id             181671 non-null  object \n",
            " 1   item_date      181672 non-null  float64\n",
            " 2   quantity tons  181673 non-null  object \n",
            " 3   customer       181672 non-null  float64\n",
            " 4   country        181645 non-null  float64\n",
            " 5   status         181671 non-null  object \n",
            " 6   item type      181673 non-null  object \n",
            " 7   application    181649 non-null  float64\n",
            " 8   thickness      181672 non-null  float64\n",
            " 9   width          181673 non-null  float64\n",
            " 10  material_ref   103754 non-null  object \n",
            " 11  product_ref    181673 non-null  int64  \n",
            " 12  delivery date  181672 non-null  float64\n",
            " 13  selling_price  181672 non-null  float64\n",
            "dtypes: float64(8), int64(1), object(5)\n",
            "memory usage: 19.4+ MB\n"
          ]
        }
      ],
      "source": [
        "# Display the info of the DataFrame\n",
        "\n",
        "df.info()"
      ]
    },
    {
      "cell_type": "markdown",
      "metadata": {
        "id": "WgP1MKgziH8S"
      },
      "source": [
        "**Inference:**\n",
        "1. Total number of records: 181673\n",
        "2. item_date field is in float64 Dtype which needs to be converted into date Dtype\n",
        "3.\n"
      ]
    },
    {
      "cell_type": "code",
      "execution_count": 7,
      "metadata": {
        "id": "AhP5OqAMoh6I"
      },
      "outputs": [],
      "source": [
        "# Create a copy to avoid modifying the original DataFrame\n",
        "cleaned_df = df.copy()"
      ]
    },
    {
      "cell_type": "code",
      "execution_count": 8,
      "metadata": {
        "colab": {
          "base_uri": "https://localhost:8080/",
          "height": 486
        },
        "id": "phs5lHZlolgD",
        "outputId": "2cc2858b-d04f-4e6c-8ef7-f2d77e9e5601"
      },
      "outputs": [
        {
          "data": {
            "text/html": [
              "<div>\n",
              "<style scoped>\n",
              "    .dataframe tbody tr th:only-of-type {\n",
              "        vertical-align: middle;\n",
              "    }\n",
              "\n",
              "    .dataframe tbody tr th {\n",
              "        vertical-align: top;\n",
              "    }\n",
              "\n",
              "    .dataframe thead th {\n",
              "        text-align: right;\n",
              "    }\n",
              "</style>\n",
              "<table border=\"1\" class=\"dataframe\">\n",
              "  <thead>\n",
              "    <tr style=\"text-align: right;\">\n",
              "      <th></th>\n",
              "      <th>id</th>\n",
              "      <th>item_date</th>\n",
              "      <th>quantity tons</th>\n",
              "      <th>customer</th>\n",
              "      <th>country</th>\n",
              "      <th>status</th>\n",
              "      <th>item type</th>\n",
              "      <th>application</th>\n",
              "      <th>thickness</th>\n",
              "      <th>width</th>\n",
              "      <th>material_ref</th>\n",
              "      <th>product_ref</th>\n",
              "      <th>delivery date</th>\n",
              "      <th>selling_price</th>\n",
              "    </tr>\n",
              "  </thead>\n",
              "  <tbody>\n",
              "    <tr>\n",
              "      <th>0</th>\n",
              "      <td>EC06F063-9DF0-440C-8764-0B0C05A4F6AE</td>\n",
              "      <td>20210401.0</td>\n",
              "      <td>54.151139</td>\n",
              "      <td>30156308.0</td>\n",
              "      <td>28.0</td>\n",
              "      <td>Won</td>\n",
              "      <td>W</td>\n",
              "      <td>10.0</td>\n",
              "      <td>2.00</td>\n",
              "      <td>1500.0</td>\n",
              "      <td>DEQ1 S460MC</td>\n",
              "      <td>1670798778</td>\n",
              "      <td>20210701.0</td>\n",
              "      <td>854.00</td>\n",
              "    </tr>\n",
              "    <tr>\n",
              "      <th>1</th>\n",
              "      <td>4E5F4B3D-DDDF-499D-AFDE-A3227EC49425</td>\n",
              "      <td>20210401.0</td>\n",
              "      <td>768.024839</td>\n",
              "      <td>30202938.0</td>\n",
              "      <td>25.0</td>\n",
              "      <td>Won</td>\n",
              "      <td>W</td>\n",
              "      <td>41.0</td>\n",
              "      <td>0.80</td>\n",
              "      <td>1210.0</td>\n",
              "      <td>0000000000000000000000000000000000104991</td>\n",
              "      <td>1668701718</td>\n",
              "      <td>20210401.0</td>\n",
              "      <td>1047.00</td>\n",
              "    </tr>\n",
              "    <tr>\n",
              "      <th>2</th>\n",
              "      <td>E140FF1B-2407-4C02-A0DD-780A093B1158</td>\n",
              "      <td>20210401.0</td>\n",
              "      <td>386.127949</td>\n",
              "      <td>30153963.0</td>\n",
              "      <td>30.0</td>\n",
              "      <td>Won</td>\n",
              "      <td>WI</td>\n",
              "      <td>28.0</td>\n",
              "      <td>0.38</td>\n",
              "      <td>952.0</td>\n",
              "      <td>S0380700</td>\n",
              "      <td>628377</td>\n",
              "      <td>20210101.0</td>\n",
              "      <td>644.33</td>\n",
              "    </tr>\n",
              "    <tr>\n",
              "      <th>3</th>\n",
              "      <td>F8D507A0-9C62-4EFE-831E-33E1DA53BB50</td>\n",
              "      <td>20210401.0</td>\n",
              "      <td>202.411065</td>\n",
              "      <td>30349574.0</td>\n",
              "      <td>32.0</td>\n",
              "      <td>Won</td>\n",
              "      <td>S</td>\n",
              "      <td>59.0</td>\n",
              "      <td>2.30</td>\n",
              "      <td>1317.0</td>\n",
              "      <td>DX51D+ZM310MAO 2.3X1317</td>\n",
              "      <td>1668701718</td>\n",
              "      <td>20210101.0</td>\n",
              "      <td>768.00</td>\n",
              "    </tr>\n",
              "    <tr>\n",
              "      <th>4</th>\n",
              "      <td>4E1C4E78-152B-430A-8094-ADD889C9D0AD</td>\n",
              "      <td>20210401.0</td>\n",
              "      <td>785.526262</td>\n",
              "      <td>30211560.0</td>\n",
              "      <td>28.0</td>\n",
              "      <td>Won</td>\n",
              "      <td>W</td>\n",
              "      <td>10.0</td>\n",
              "      <td>4.00</td>\n",
              "      <td>2000.0</td>\n",
              "      <td>2_S275JR+AR-CL1</td>\n",
              "      <td>640665</td>\n",
              "      <td>20210301.0</td>\n",
              "      <td>577.00</td>\n",
              "    </tr>\n",
              "  </tbody>\n",
              "</table>\n",
              "</div>"
            ],
            "text/plain": [
              "                                     id   item_date quantity tons    customer  \\\n",
              "0  EC06F063-9DF0-440C-8764-0B0C05A4F6AE  20210401.0     54.151139  30156308.0   \n",
              "1  4E5F4B3D-DDDF-499D-AFDE-A3227EC49425  20210401.0    768.024839  30202938.0   \n",
              "2  E140FF1B-2407-4C02-A0DD-780A093B1158  20210401.0    386.127949  30153963.0   \n",
              "3  F8D507A0-9C62-4EFE-831E-33E1DA53BB50  20210401.0    202.411065  30349574.0   \n",
              "4  4E1C4E78-152B-430A-8094-ADD889C9D0AD  20210401.0    785.526262  30211560.0   \n",
              "\n",
              "   country status item type  application  thickness   width  \\\n",
              "0     28.0    Won         W         10.0       2.00  1500.0   \n",
              "1     25.0    Won         W         41.0       0.80  1210.0   \n",
              "2     30.0    Won        WI         28.0       0.38   952.0   \n",
              "3     32.0    Won         S         59.0       2.30  1317.0   \n",
              "4     28.0    Won         W         10.0       4.00  2000.0   \n",
              "\n",
              "                               material_ref  product_ref  delivery date  \\\n",
              "0                               DEQ1 S460MC   1670798778     20210701.0   \n",
              "1  0000000000000000000000000000000000104991   1668701718     20210401.0   \n",
              "2                                  S0380700       628377     20210101.0   \n",
              "3                   DX51D+ZM310MAO 2.3X1317   1668701718     20210101.0   \n",
              "4                           2_S275JR+AR-CL1       640665     20210301.0   \n",
              "\n",
              "   selling_price  \n",
              "0         854.00  \n",
              "1        1047.00  \n",
              "2         644.33  \n",
              "3         768.00  \n",
              "4         577.00  "
            ]
          },
          "execution_count": 8,
          "metadata": {},
          "output_type": "execute_result"
        }
      ],
      "source": [
        "cleaned_df.head()"
      ]
    },
    {
      "cell_type": "code",
      "execution_count": 14,
      "metadata": {},
      "outputs": [],
      "source": [
        "cleaned_df['item_date'] = pd.to_datetime(cleaned_df['item_date'], format='%Y%m%d', errors='coerce')\n"
      ]
    },
    {
      "cell_type": "code",
      "execution_count": 17,
      "metadata": {
        "colab": {
          "base_uri": "https://localhost:8080/",
          "height": 504
        },
        "id": "TOmVv94qu_On",
        "outputId": "1b0a773d-fbf1-41b2-8534-7d90d4b85ffd"
      },
      "outputs": [
        {
          "data": {
            "text/html": [
              "<div>\n",
              "<style scoped>\n",
              "    .dataframe tbody tr th:only-of-type {\n",
              "        vertical-align: middle;\n",
              "    }\n",
              "\n",
              "    .dataframe tbody tr th {\n",
              "        vertical-align: top;\n",
              "    }\n",
              "\n",
              "    .dataframe thead th {\n",
              "        text-align: right;\n",
              "    }\n",
              "</style>\n",
              "<table border=\"1\" class=\"dataframe\">\n",
              "  <thead>\n",
              "    <tr style=\"text-align: right;\">\n",
              "      <th></th>\n",
              "      <th>id</th>\n",
              "      <th>item_date</th>\n",
              "      <th>quantity tons</th>\n",
              "      <th>customer</th>\n",
              "      <th>country</th>\n",
              "      <th>status</th>\n",
              "      <th>item type</th>\n",
              "      <th>application</th>\n",
              "      <th>thickness</th>\n",
              "      <th>width</th>\n",
              "      <th>material_ref</th>\n",
              "      <th>product_ref</th>\n",
              "      <th>delivery date</th>\n",
              "      <th>selling_price</th>\n",
              "    </tr>\n",
              "  </thead>\n",
              "  <tbody>\n",
              "    <tr>\n",
              "      <th>181671</th>\n",
              "      <td>7AFFD323-01D9-4E15-B80D-7D1B03498FC8</td>\n",
              "      <td>2020-07-02</td>\n",
              "      <td>-2000</td>\n",
              "      <td>30200854.0</td>\n",
              "      <td>25.0</td>\n",
              "      <td>Won</td>\n",
              "      <td>W</td>\n",
              "      <td>41.0</td>\n",
              "      <td>0.85</td>\n",
              "      <td>1250.0</td>\n",
              "      <td>0000000000000000000000000000000001001149</td>\n",
              "      <td>164141591</td>\n",
              "      <td>20200701.0</td>\n",
              "      <td>601.0</td>\n",
              "    </tr>\n",
              "    <tr>\n",
              "      <th>181672</th>\n",
              "      <td>AD0CA853-AE3C-4B2F-9FBB-8B0B965F84BC</td>\n",
              "      <td>2020-07-02</td>\n",
              "      <td>406.686538</td>\n",
              "      <td>30200854.0</td>\n",
              "      <td>25.0</td>\n",
              "      <td>Won</td>\n",
              "      <td>W</td>\n",
              "      <td>41.0</td>\n",
              "      <td>0.71</td>\n",
              "      <td>1240.0</td>\n",
              "      <td>0000000000000000000000000000000001005439</td>\n",
              "      <td>164141591</td>\n",
              "      <td>20200701.0</td>\n",
              "      <td>607.0</td>\n",
              "    </tr>\n",
              "    <tr>\n",
              "      <th>52</th>\n",
              "      <td>175B56C3-CDF1-4BD4-BC83-C1BF1FEAD8B8</td>\n",
              "      <td>NaT</td>\n",
              "      <td>27.743221</td>\n",
              "      <td>30162161.0</td>\n",
              "      <td>77.0</td>\n",
              "      <td>Won</td>\n",
              "      <td>S</td>\n",
              "      <td>4.0</td>\n",
              "      <td>1.10</td>\n",
              "      <td>1300.0</td>\n",
              "      <td>DX51D+Z100 MA</td>\n",
              "      <td>164141591</td>\n",
              "      <td>20210601.0</td>\n",
              "      <td>1046.0</td>\n",
              "    </tr>\n",
              "    <tr>\n",
              "      <th>104640</th>\n",
              "      <td>1BA92915-36FC-437A-811C-9DC7BF958EA6</td>\n",
              "      <td>NaT</td>\n",
              "      <td>51.785585</td>\n",
              "      <td>30230331.0</td>\n",
              "      <td>80.0</td>\n",
              "      <td>Lost</td>\n",
              "      <td>S</td>\n",
              "      <td>10.0</td>\n",
              "      <td>0.90</td>\n",
              "      <td>1435.0</td>\n",
              "      <td>NaN</td>\n",
              "      <td>628377</td>\n",
              "      <td>20210101.0</td>\n",
              "      <td>654.0</td>\n",
              "    </tr>\n",
              "    <tr>\n",
              "      <th>105485</th>\n",
              "      <td>40203729-1A96-481E-9B71-3FF672C27F0B</td>\n",
              "      <td>NaT</td>\n",
              "      <td>101.742899</td>\n",
              "      <td>30210087.0</td>\n",
              "      <td>26.0</td>\n",
              "      <td>Lost</td>\n",
              "      <td>S</td>\n",
              "      <td>42.0</td>\n",
              "      <td>3.00</td>\n",
              "      <td>1494.0</td>\n",
              "      <td>NaN</td>\n",
              "      <td>1668701718</td>\n",
              "      <td>20210201.0</td>\n",
              "      <td>795.0</td>\n",
              "    </tr>\n",
              "  </tbody>\n",
              "</table>\n",
              "</div>"
            ],
            "text/plain": [
              "                                          id  item_date quantity tons  \\\n",
              "181671  7AFFD323-01D9-4E15-B80D-7D1B03498FC8 2020-07-02         -2000   \n",
              "181672  AD0CA853-AE3C-4B2F-9FBB-8B0B965F84BC 2020-07-02    406.686538   \n",
              "52      175B56C3-CDF1-4BD4-BC83-C1BF1FEAD8B8        NaT     27.743221   \n",
              "104640  1BA92915-36FC-437A-811C-9DC7BF958EA6        NaT     51.785585   \n",
              "105485  40203729-1A96-481E-9B71-3FF672C27F0B        NaT    101.742899   \n",
              "\n",
              "          customer  country status item type  application  thickness   width  \\\n",
              "181671  30200854.0     25.0    Won         W         41.0       0.85  1250.0   \n",
              "181672  30200854.0     25.0    Won         W         41.0       0.71  1240.0   \n",
              "52      30162161.0     77.0    Won         S          4.0       1.10  1300.0   \n",
              "104640  30230331.0     80.0   Lost         S         10.0       0.90  1435.0   \n",
              "105485  30210087.0     26.0   Lost         S         42.0       3.00  1494.0   \n",
              "\n",
              "                                    material_ref  product_ref  delivery date  \\\n",
              "181671  0000000000000000000000000000000001001149    164141591     20200701.0   \n",
              "181672  0000000000000000000000000000000001005439    164141591     20200701.0   \n",
              "52                                 DX51D+Z100 MA    164141591     20210601.0   \n",
              "104640                                       NaN       628377     20210101.0   \n",
              "105485                                       NaN   1668701718     20210201.0   \n",
              "\n",
              "        selling_price  \n",
              "181671          601.0  \n",
              "181672          607.0  \n",
              "52             1046.0  \n",
              "104640          654.0  \n",
              "105485          795.0  "
            ]
          },
          "execution_count": 17,
          "metadata": {},
          "output_type": "execute_result"
        }
      ],
      "source": [
        "\n",
        "cleaned_df.sort_values(by='item_date', ascending=False, inplace=True)\n",
        "cleaned_df.tail()"
      ]
    },
    {
      "cell_type": "code",
      "execution_count": 19,
      "metadata": {
        "colab": {
          "base_uri": "https://localhost:8080/",
          "height": 269
        },
        "id": "YxU9Xstks9nW",
        "outputId": "7372b8e5-40cb-42d9-c8a9-f9c56ec27169"
      },
      "outputs": [],
      "source": [
        "# Uniform date format\n",
        "\n",
        "cleaned_df['delivery date'] = pd.to_datetime(cleaned_df['delivery date'], format='%Y%m%d', errors='coerce')"
      ]
    },
    {
      "cell_type": "code",
      "execution_count": 22,
      "metadata": {
        "colab": {
          "base_uri": "https://localhost:8080/",
          "height": 504
        },
        "id": "wtQZ_68MtQN4",
        "outputId": "97455d4b-4ac6-4ef5-fd80-5f0058209929"
      },
      "outputs": [
        {
          "data": {
            "text/html": [
              "<div>\n",
              "<style scoped>\n",
              "    .dataframe tbody tr th:only-of-type {\n",
              "        vertical-align: middle;\n",
              "    }\n",
              "\n",
              "    .dataframe tbody tr th {\n",
              "        vertical-align: top;\n",
              "    }\n",
              "\n",
              "    .dataframe thead th {\n",
              "        text-align: right;\n",
              "    }\n",
              "</style>\n",
              "<table border=\"1\" class=\"dataframe\">\n",
              "  <thead>\n",
              "    <tr style=\"text-align: right;\">\n",
              "      <th></th>\n",
              "      <th>id</th>\n",
              "      <th>item_date</th>\n",
              "      <th>quantity tons</th>\n",
              "      <th>customer</th>\n",
              "      <th>country</th>\n",
              "      <th>status</th>\n",
              "      <th>item type</th>\n",
              "      <th>application</th>\n",
              "      <th>thickness</th>\n",
              "      <th>width</th>\n",
              "      <th>material_ref</th>\n",
              "      <th>product_ref</th>\n",
              "      <th>delivery date</th>\n",
              "      <th>selling_price</th>\n",
              "    </tr>\n",
              "  </thead>\n",
              "  <tbody>\n",
              "    <tr>\n",
              "      <th>2519</th>\n",
              "      <td>86A827B7-C2FD-47D8-8D64-342ABE448939</td>\n",
              "      <td>2021-03-29</td>\n",
              "      <td>1075.116415</td>\n",
              "      <td>30344971.0</td>\n",
              "      <td>84.0</td>\n",
              "      <td>Lost</td>\n",
              "      <td>W</td>\n",
              "      <td>38.0</td>\n",
              "      <td>12.0</td>\n",
              "      <td>1710.0</td>\n",
              "      <td>NaN</td>\n",
              "      <td>640665</td>\n",
              "      <td>2022-01-01</td>\n",
              "      <td>1001.0</td>\n",
              "    </tr>\n",
              "    <tr>\n",
              "      <th>3233</th>\n",
              "      <td>230684A7-6716-4B08-9AD7-1DD13D0066A5</td>\n",
              "      <td>2021-03-29</td>\n",
              "      <td>1079.945988</td>\n",
              "      <td>30196886.0</td>\n",
              "      <td>84.0</td>\n",
              "      <td>Lost</td>\n",
              "      <td>W</td>\n",
              "      <td>10.0</td>\n",
              "      <td>16.0</td>\n",
              "      <td>975.0</td>\n",
              "      <td>NaN</td>\n",
              "      <td>640665</td>\n",
              "      <td>2022-01-01</td>\n",
              "      <td>1015.0</td>\n",
              "    </tr>\n",
              "    <tr>\n",
              "      <th>2515</th>\n",
              "      <td>78D13D53-A217-4FC9-A54D-D6433B2262E0</td>\n",
              "      <td>2021-03-29</td>\n",
              "      <td>1076.477597</td>\n",
              "      <td>30344971.0</td>\n",
              "      <td>84.0</td>\n",
              "      <td>Lost</td>\n",
              "      <td>W</td>\n",
              "      <td>38.0</td>\n",
              "      <td>16.0</td>\n",
              "      <td>1255.0</td>\n",
              "      <td>NaN</td>\n",
              "      <td>640665</td>\n",
              "      <td>2022-01-01</td>\n",
              "      <td>1004.0</td>\n",
              "    </tr>\n",
              "    <tr>\n",
              "      <th>2523</th>\n",
              "      <td>9B251DFD-3C16-42CB-8A1A-7276373A59BD</td>\n",
              "      <td>2021-03-29</td>\n",
              "      <td>1084.605598</td>\n",
              "      <td>30344971.0</td>\n",
              "      <td>84.0</td>\n",
              "      <td>Lost</td>\n",
              "      <td>W</td>\n",
              "      <td>38.0</td>\n",
              "      <td>16.0</td>\n",
              "      <td>975.0</td>\n",
              "      <td>NaN</td>\n",
              "      <td>640665</td>\n",
              "      <td>2022-01-01</td>\n",
              "      <td>1015.0</td>\n",
              "    </tr>\n",
              "    <tr>\n",
              "      <th>3229</th>\n",
              "      <td>94C21F40-F46E-418E-80AA-C85818D6C0CB</td>\n",
              "      <td>2021-03-29</td>\n",
              "      <td>1080.035109</td>\n",
              "      <td>30196886.0</td>\n",
              "      <td>84.0</td>\n",
              "      <td>Lost</td>\n",
              "      <td>W</td>\n",
              "      <td>10.0</td>\n",
              "      <td>16.0</td>\n",
              "      <td>1255.0</td>\n",
              "      <td>NaN</td>\n",
              "      <td>640665</td>\n",
              "      <td>2022-01-01</td>\n",
              "      <td>1003.0</td>\n",
              "    </tr>\n",
              "  </tbody>\n",
              "</table>\n",
              "</div>"
            ],
            "text/plain": [
              "                                        id  item_date quantity tons  \\\n",
              "2519  86A827B7-C2FD-47D8-8D64-342ABE448939 2021-03-29   1075.116415   \n",
              "3233  230684A7-6716-4B08-9AD7-1DD13D0066A5 2021-03-29   1079.945988   \n",
              "2515  78D13D53-A217-4FC9-A54D-D6433B2262E0 2021-03-29   1076.477597   \n",
              "2523  9B251DFD-3C16-42CB-8A1A-7276373A59BD 2021-03-29   1084.605598   \n",
              "3229  94C21F40-F46E-418E-80AA-C85818D6C0CB 2021-03-29   1080.035109   \n",
              "\n",
              "        customer  country status item type  application  thickness   width  \\\n",
              "2519  30344971.0     84.0   Lost         W         38.0       12.0  1710.0   \n",
              "3233  30196886.0     84.0   Lost         W         10.0       16.0   975.0   \n",
              "2515  30344971.0     84.0   Lost         W         38.0       16.0  1255.0   \n",
              "2523  30344971.0     84.0   Lost         W         38.0       16.0   975.0   \n",
              "3229  30196886.0     84.0   Lost         W         10.0       16.0  1255.0   \n",
              "\n",
              "     material_ref  product_ref delivery date  selling_price  \n",
              "2519          NaN       640665    2022-01-01         1001.0  \n",
              "3233          NaN       640665    2022-01-01         1015.0  \n",
              "2515          NaN       640665    2022-01-01         1004.0  \n",
              "2523          NaN       640665    2022-01-01         1015.0  \n",
              "3229          NaN       640665    2022-01-01         1003.0  "
            ]
          },
          "execution_count": 22,
          "metadata": {},
          "output_type": "execute_result"
        }
      ],
      "source": [
        "cleaned_df.sort_values(by='delivery date', ascending=False, inplace=True)\n",
        "cleaned_df.head()"
      ]
    },
    {
      "cell_type": "code",
      "execution_count": null,
      "metadata": {
        "id": "d-hX1oxYoojx"
      },
      "outputs": [],
      "source": [
        "# Handling missing values\n",
        "cleaned_df.dropna(inplace=True)"
      ]
    },
    {
      "cell_type": "code",
      "execution_count": 23,
      "metadata": {
        "colab": {
          "base_uri": "https://localhost:8080/"
        },
        "id": "d_Wb25JLo1Br",
        "outputId": "6a379a19-49b7-4c78-a503-84c7b846cc9a"
      },
      "outputs": [
        {
          "name": "stdout",
          "output_type": "stream",
          "text": [
            "<class 'pandas.core.frame.DataFrame'>\n",
            "Index: 181673 entries, 2519 to 104761\n",
            "Data columns (total 14 columns):\n",
            " #   Column         Non-Null Count   Dtype         \n",
            "---  ------         --------------   -----         \n",
            " 0   id             181671 non-null  object        \n",
            " 1   item_date      181670 non-null  datetime64[ns]\n",
            " 2   quantity tons  181673 non-null  object        \n",
            " 3   customer       181672 non-null  float64       \n",
            " 4   country        181645 non-null  float64       \n",
            " 5   status         181671 non-null  object        \n",
            " 6   item type      181673 non-null  object        \n",
            " 7   application    181649 non-null  float64       \n",
            " 8   thickness      181672 non-null  float64       \n",
            " 9   width          181673 non-null  float64       \n",
            " 10  material_ref   103754 non-null  object        \n",
            " 11  product_ref    181673 non-null  int64         \n",
            " 12  delivery date  181670 non-null  datetime64[ns]\n",
            " 13  selling_price  181672 non-null  float64       \n",
            "dtypes: datetime64[ns](2), float64(6), int64(1), object(5)\n",
            "memory usage: 20.8+ MB\n"
          ]
        }
      ],
      "source": [
        "cleaned_df.info()"
      ]
    },
    {
      "cell_type": "code",
      "execution_count": 24,
      "metadata": {
        "id": "bEKvR2nao4IU"
      },
      "outputs": [],
      "source": [
        "# Handling duplicate rows\n",
        "cleaned_df.drop_duplicates(inplace=True)"
      ]
    },
    {
      "cell_type": "code",
      "execution_count": 25,
      "metadata": {
        "colab": {
          "base_uri": "https://localhost:8080/"
        },
        "id": "np7oH0uwpJQm",
        "outputId": "cf4f592a-a5c0-4d74-a446-7fee93b3291b"
      },
      "outputs": [
        {
          "name": "stdout",
          "output_type": "stream",
          "text": [
            "<class 'pandas.core.frame.DataFrame'>\n",
            "Index: 181673 entries, 2519 to 104761\n",
            "Data columns (total 14 columns):\n",
            " #   Column         Non-Null Count   Dtype         \n",
            "---  ------         --------------   -----         \n",
            " 0   id             181671 non-null  object        \n",
            " 1   item_date      181670 non-null  datetime64[ns]\n",
            " 2   quantity tons  181673 non-null  object        \n",
            " 3   customer       181672 non-null  float64       \n",
            " 4   country        181645 non-null  float64       \n",
            " 5   status         181671 non-null  object        \n",
            " 6   item type      181673 non-null  object        \n",
            " 7   application    181649 non-null  float64       \n",
            " 8   thickness      181672 non-null  float64       \n",
            " 9   width          181673 non-null  float64       \n",
            " 10  material_ref   103754 non-null  object        \n",
            " 11  product_ref    181673 non-null  int64         \n",
            " 12  delivery date  181670 non-null  datetime64[ns]\n",
            " 13  selling_price  181672 non-null  float64       \n",
            "dtypes: datetime64[ns](2), float64(6), int64(1), object(5)\n",
            "memory usage: 20.8+ MB\n"
          ]
        }
      ],
      "source": [
        "cleaned_df.info()"
      ]
    },
    {
      "cell_type": "code",
      "execution_count": 26,
      "metadata": {
        "id": "6YTIT9Elo7D6"
      },
      "outputs": [],
      "source": [
        "# Dealing with negative selling prices\n",
        "cleaned_df1 = cleaned_df[cleaned_df['selling_price'] < 0]"
      ]
    },
    {
      "cell_type": "code",
      "execution_count": 28,
      "metadata": {
        "colab": {
          "base_uri": "https://localhost:8080/"
        },
        "id": "8xD8vTjWpTRX",
        "outputId": "52fecdf2-6734-487f-efaa-5f97064d25c0"
      },
      "outputs": [
        {
          "data": {
            "text/html": [
              "<div>\n",
              "<style scoped>\n",
              "    .dataframe tbody tr th:only-of-type {\n",
              "        vertical-align: middle;\n",
              "    }\n",
              "\n",
              "    .dataframe tbody tr th {\n",
              "        vertical-align: top;\n",
              "    }\n",
              "\n",
              "    .dataframe thead th {\n",
              "        text-align: right;\n",
              "    }\n",
              "</style>\n",
              "<table border=\"1\" class=\"dataframe\">\n",
              "  <thead>\n",
              "    <tr style=\"text-align: right;\">\n",
              "      <th></th>\n",
              "      <th>id</th>\n",
              "      <th>item_date</th>\n",
              "      <th>quantity tons</th>\n",
              "      <th>customer</th>\n",
              "      <th>country</th>\n",
              "      <th>status</th>\n",
              "      <th>item type</th>\n",
              "      <th>application</th>\n",
              "      <th>thickness</th>\n",
              "      <th>width</th>\n",
              "      <th>material_ref</th>\n",
              "      <th>product_ref</th>\n",
              "      <th>delivery date</th>\n",
              "      <th>selling_price</th>\n",
              "    </tr>\n",
              "  </thead>\n",
              "  <tbody>\n",
              "    <tr>\n",
              "      <th>44865</th>\n",
              "      <td>87F20C79-CE1E-4325-BBA8-1C6DE4657084</td>\n",
              "      <td>2021-02-03</td>\n",
              "      <td>28.368563</td>\n",
              "      <td>30217604.0</td>\n",
              "      <td>27.0</td>\n",
              "      <td>Not lost for AM</td>\n",
              "      <td>PL</td>\n",
              "      <td>10.0</td>\n",
              "      <td>1.500</td>\n",
              "      <td>1270.0</td>\n",
              "      <td>BOB</td>\n",
              "      <td>164141591</td>\n",
              "      <td>2021-05-01</td>\n",
              "      <td>-25.0</td>\n",
              "    </tr>\n",
              "    <tr>\n",
              "      <th>28</th>\n",
              "      <td>BEC18863-E965-478B-9861-A49A77F26655</td>\n",
              "      <td>2021-04-01</td>\n",
              "      <td>99.059199</td>\n",
              "      <td>30153510.0</td>\n",
              "      <td>30.0</td>\n",
              "      <td>Won</td>\n",
              "      <td>W</td>\n",
              "      <td>41.0</td>\n",
              "      <td>0.595</td>\n",
              "      <td>1207.0</td>\n",
              "      <td>GOO1208X595SP</td>\n",
              "      <td>611993</td>\n",
              "      <td>2021-04-01</td>\n",
              "      <td>-1160.0</td>\n",
              "    </tr>\n",
              "    <tr>\n",
              "      <th>44761</th>\n",
              "      <td>947C725B-85ED-4817-B4F8-27720314F9E6</td>\n",
              "      <td>2021-02-04</td>\n",
              "      <td>101.397995</td>\n",
              "      <td>30198657.0</td>\n",
              "      <td>32.0</td>\n",
              "      <td>Won</td>\n",
              "      <td>W</td>\n",
              "      <td>41.0</td>\n",
              "      <td>1.250</td>\n",
              "      <td>1100.0</td>\n",
              "      <td>NaN</td>\n",
              "      <td>1721130331</td>\n",
              "      <td>2021-04-01</td>\n",
              "      <td>-730.0</td>\n",
              "    </tr>\n",
              "    <tr>\n",
              "      <th>44810</th>\n",
              "      <td>35C64267-229F-438E-9A3B-91A6A41DACE2</td>\n",
              "      <td>2021-02-03</td>\n",
              "      <td>12.225889</td>\n",
              "      <td>30157111.0</td>\n",
              "      <td>78.0</td>\n",
              "      <td>Won</td>\n",
              "      <td>W</td>\n",
              "      <td>41.0</td>\n",
              "      <td>0.750</td>\n",
              "      <td>1250.0</td>\n",
              "      <td>NaN</td>\n",
              "      <td>164141591</td>\n",
              "      <td>2021-04-01</td>\n",
              "      <td>-445.0</td>\n",
              "    </tr>\n",
              "    <tr>\n",
              "      <th>105189</th>\n",
              "      <td>8CA4D51F-DF96-4B88-805D-3937CCFDA810</td>\n",
              "      <td>2020-11-12</td>\n",
              "      <td>5.280274</td>\n",
              "      <td>30209814.0</td>\n",
              "      <td>25.0</td>\n",
              "      <td>Won</td>\n",
              "      <td>W</td>\n",
              "      <td>15.0</td>\n",
              "      <td>6.000</td>\n",
              "      <td>1250.0</td>\n",
              "      <td>NaN</td>\n",
              "      <td>1671863738</td>\n",
              "      <td>2021-02-01</td>\n",
              "      <td>-336.0</td>\n",
              "    </tr>\n",
              "  </tbody>\n",
              "</table>\n",
              "</div>"
            ],
            "text/plain": [
              "                                          id  item_date quantity tons  \\\n",
              "44865   87F20C79-CE1E-4325-BBA8-1C6DE4657084 2021-02-03     28.368563   \n",
              "28      BEC18863-E965-478B-9861-A49A77F26655 2021-04-01     99.059199   \n",
              "44761   947C725B-85ED-4817-B4F8-27720314F9E6 2021-02-04    101.397995   \n",
              "44810   35C64267-229F-438E-9A3B-91A6A41DACE2 2021-02-03     12.225889   \n",
              "105189  8CA4D51F-DF96-4B88-805D-3937CCFDA810 2020-11-12      5.280274   \n",
              "\n",
              "          customer  country           status item type  application  \\\n",
              "44865   30217604.0     27.0  Not lost for AM        PL         10.0   \n",
              "28      30153510.0     30.0              Won         W         41.0   \n",
              "44761   30198657.0     32.0              Won         W         41.0   \n",
              "44810   30157111.0     78.0              Won         W         41.0   \n",
              "105189  30209814.0     25.0              Won         W         15.0   \n",
              "\n",
              "        thickness   width   material_ref  product_ref delivery date  \\\n",
              "44865       1.500  1270.0            BOB    164141591    2021-05-01   \n",
              "28          0.595  1207.0  GOO1208X595SP       611993    2021-04-01   \n",
              "44761       1.250  1100.0            NaN   1721130331    2021-04-01   \n",
              "44810       0.750  1250.0            NaN    164141591    2021-04-01   \n",
              "105189      6.000  1250.0            NaN   1671863738    2021-02-01   \n",
              "\n",
              "        selling_price  \n",
              "44865           -25.0  \n",
              "28            -1160.0  \n",
              "44761          -730.0  \n",
              "44810          -445.0  \n",
              "105189         -336.0  "
            ]
          },
          "execution_count": 28,
          "metadata": {},
          "output_type": "execute_result"
        }
      ],
      "source": [
        "cleaned_df1"
      ]
    },
    {
      "cell_type": "code",
      "execution_count": null,
      "metadata": {
        "id": "gqqLBEfJpdgK"
      },
      "outputs": [],
      "source": [
        "# Handling outliers (consider replacing 3 with the appropriate threshold)\n",
        "cleaned_df = cleaned_df[(cleaned_df['quantity tons'].between(cleaned_df['quantity tons'].quantile(0.01), cleaned_df['quantity tons'].quantile(0.99))) &\n",
        "                        (cleaned_df['thickness'].between(cleaned_df['thickness'].quantile(0.01), cleaned_df['thickness'].quantile(0.99)))]"
      ]
    },
    {
      "cell_type": "code",
      "execution_count": null,
      "metadata": {
        "colab": {
          "base_uri": "https://localhost:8080/",
          "height": 486
        },
        "id": "PHlPpQjWpuxi",
        "outputId": "3d855de8-3def-4ed0-d2df-d5c68b486376"
      },
      "outputs": [],
      "source": [
        "cleaned_df.head()"
      ]
    },
    {
      "cell_type": "code",
      "execution_count": null,
      "metadata": {
        "colab": {
          "base_uri": "https://localhost:8080/"
        },
        "id": "11QenL5Vp9SO",
        "outputId": "68d51d98-d075-4b63-e5a5-96780b13f00a"
      },
      "outputs": [],
      "source": [
        "cleaned_df.info()"
      ]
    },
    {
      "cell_type": "code",
      "execution_count": null,
      "metadata": {
        "colab": {
          "base_uri": "https://localhost:8080/"
        },
        "id": "McOVPnsdqrYr",
        "outputId": "3ee9441d-276b-4942-861e-46c586d80fc5"
      },
      "outputs": [],
      "source": [
        "# Checking for consistency in categorization\n",
        "# Assuming 'status', 'item_type', 'application' are categorical columns\n",
        "cleaned_df['status'] = cleaned_df['status'].astype('category')\n",
        "cleaned_df['item type'] = cleaned_df['item type'].astype('category')\n",
        "cleaned_df['application'] = cleaned_df['application'].astype('category')"
      ]
    },
    {
      "cell_type": "code",
      "execution_count": null,
      "metadata": {
        "colab": {
          "base_uri": "https://localhost:8080/"
        },
        "id": "zJvzGWByqxg8",
        "outputId": "f6d988b8-8a4b-432d-b429-1e7387459c28"
      },
      "outputs": [],
      "source": [
        "cleaned_df.info()"
      ]
    },
    {
      "cell_type": "code",
      "execution_count": null,
      "metadata": {
        "colab": {
          "base_uri": "https://localhost:8080/",
          "height": 486
        },
        "id": "kLnOjiKwq2RN",
        "outputId": "fbb40173-ef48-4a4a-893e-aa36d9b21be6"
      },
      "outputs": [],
      "source": [
        "cleaned_df.head()"
      ]
    },
    {
      "cell_type": "code",
      "execution_count": null,
      "metadata": {
        "colab": {
          "base_uri": "https://localhost:8080/"
        },
        "id": "sbrv4OvhrU6P",
        "outputId": "3a9b2093-a942-4e46-ee65-4989e0bf68f1"
      },
      "outputs": [],
      "source": [
        "# Some rubbish values are present in ‘Material_Reference’ which starts with ‘00000’ value which should be converted into null\n",
        "cleaned_df['material_ref'] = cleaned_df['material_ref'].apply(lambda x: None if str(x).startswith('0000') else x)\n"
      ]
    },
    {
      "cell_type": "code",
      "execution_count": null,
      "metadata": {
        "colab": {
          "base_uri": "https://localhost:8080/",
          "height": 486
        },
        "id": "pUVM6CGmrshz",
        "outputId": "8824b494-c598-4cd6-fc38-056989462164"
      },
      "outputs": [],
      "source": [
        "cleaned_df.head()"
      ]
    },
    {
      "cell_type": "code",
      "execution_count": null,
      "metadata": {
        "colab": {
          "base_uri": "https://localhost:8080/"
        },
        "id": "laHytakCrxw1",
        "outputId": "c9322851-2624-4006-c8d7-938aeec3fcec"
      },
      "outputs": [],
      "source": [
        "# material_ref - is a category\n",
        "cleaned_df['material_ref'] = cleaned_df['material_ref'].astype('category')"
      ]
    },
    {
      "cell_type": "code",
      "execution_count": null,
      "metadata": {
        "colab": {
          "base_uri": "https://localhost:8080/"
        },
        "id": "XANiy17dr8ON",
        "outputId": "5d6586d2-94bd-4aa3-e556-0df205236103"
      },
      "outputs": [],
      "source": [
        "cleaned_df.info()"
      ]
    }
  ],
  "metadata": {
    "colab": {
      "authorship_tag": "ABX9TyPErdwwaLY7+1aP8LzwRTYc",
      "include_colab_link": true,
      "provenance": []
    },
    "kernelspec": {
      "display_name": "Python 3",
      "name": "python3"
    },
    "language_info": {
      "codemirror_mode": {
        "name": "ipython",
        "version": 3
      },
      "file_extension": ".py",
      "mimetype": "text/x-python",
      "name": "python",
      "nbconvert_exporter": "python",
      "pygments_lexer": "ipython3",
      "version": "3.10.12"
    }
  },
  "nbformat": 4,
  "nbformat_minor": 0
}
