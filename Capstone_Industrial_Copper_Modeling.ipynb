{
  "cells": [
    {
      "cell_type": "markdown",
      "metadata": {
        "colab_type": "text",
        "id": "view-in-github"
      },
      "source": [
        "<a href=\"https://colab.research.google.com/github/codewithselva/industrial-copper-modelling/blob/main/Capstone_Industrial_Copper_Modeling.ipynb\" target=\"_parent\"><img src=\"https://colab.research.google.com/assets/colab-badge.svg\" alt=\"Open In Colab\"/></a>"
      ]
    },
    {
      "cell_type": "markdown",
      "metadata": {
        "id": "kzMt5JYAegNT"
      },
      "source": [
        "# **About the Data:**\n",
        "1. `id`: This column likely serves as a unique identifier for each transaction or item, which can be useful for tracking and record-keeping.\n",
        "2. `item_date`: This column represents the date when each transaction or item was recorded or occurred. It's important for tracking the timing of business activities.\n",
        "3. `quantity tons`: This column indicates the quantity of the item in tons, which is essential for inventory management and understanding the volume of products sold or produced.\n",
        "4. `customer`: The \"customer\" column refers to the name or identifier of the customer who either purchased or ordered the items. It's crucial for maintaining customer relationships and tracking sales.\n",
        "5. `country`: The \"country\" column specifies the country associated with each customer. This information can be useful for understanding the geographic distribution of customers and may have implications for logistics and international sales.\n",
        "6. `status`: The \"status\" column likely describes the current status of the transaction or item. This information can be used to track the progress of orders or transactions, such as \"Draft\" or \"Won.\"\n",
        "7. `item type`: This column categorizes the type or category of the items being sold or produced. Understanding item types is essential for inventory categorization and business reporting.\n",
        "8. `application`: The \"application\" column defines the specific use or application of the items. This information can help tailor marketing and product development efforts.\n",
        "9. `thickness`: The \"thickness\" column provides details about the thickness of the items. It's critical when dealing with materials where thickness is a significant factor, such as metals or construction materials.\n",
        "10. `width`: The \"width\" column specifies the width of the items. It's important for understanding the size and dimensions of the products.\n",
        "11. `material_ref`: This column appears to be a reference or identifier for the material used in the items. It's essential for tracking the source or composition of the products.\n",
        "12. `product_ref`: The \"product_ref\" column seems to be a reference or identifier for the specific product. This information is useful for identifying and cataloging products in a standardized way.\n",
        "13. `delivery date`: This column records the expected or actual delivery date for each item or transaction. It's crucial for managing logistics and ensuring timely delivery to customers.\n",
        "14. `selling_price`: The \"selling_price\" column represents the price at which the items are sold. This is a critical factor for revenue generation and profitability analysis."
      ]
    },
    {
      "cell_type": "markdown",
      "metadata": {
        "id": "amxsmVAQhgd2"
      },
      "source": [
        "**Approach: **\n",
        "1. Data Understanding: Identify the types of variables (continuous, categorical) and their distributions. Some rubbish values are present in ‘Material_Reference’ which starts with ‘00000’ value which should be converted into null. Treat reference columns as categorical variables. INDEX may not be useful.\n",
        "2. Data Preprocessing:\n",
        "Handle missing values with mean/median/mode.\n",
        "Treat Outliers using IQR or Isolation Forest from sklearn library.\n",
        "Identify Skewness in the dataset and treat skewness with appropriate data transformations, such as log transformation(which is best suited to transform target variable-train, predict and then reverse transform it back to original scale eg:dollars), boxcox transformation, or other techniques, to handle high skewness in continuous variables.\n",
        "Encode categorical variables using suitable techniques, such as one-hot encoding, label encoding, or ordinal encoding, based on their nature and relationship with the target variable.\n",
        "3. EDA: Try visualizing outliers and skewness(before and after treating skewness) using Seaborn’s boxplot, distplot, violinplot.\n",
        "4. Feature Engineering: Engineer new features if applicable, such as aggregating or transforming existing features to create more informative representations of the data. And drop highly correlated columns using SNS HEATMAP.\n",
        "5. Model Building and Evaluation:\n",
        "Split the dataset into training and testing/validation sets.\n",
        "Train and evaluate different classification models, such as ExtraTreesClassifier, XGBClassifier, or Logistic Regression, using appropriate evaluation metrics such as accuracy, precision, recall, F1 score, and AUC curve.\n",
        "Optimize model hyperparameters using techniques such as cross-validation and grid search to find the best-performing model.\n",
        "Interpret the model results and assess its performance based on the defined problem statement.\n",
        "Same steps for Regression modelling.(note: dataset contains more noise and linearity between independent variables so itll perform well only with tree based models)\n",
        "6. Model GUI: Using streamlit module, create interactive page with\n",
        "   (1) task input( Regression or Classification) and\n",
        "   (2) create an input field where you can enter each column value except ‘Selling_Price’ for regression model and  except ‘Status’ for classification model.\n",
        "   (3) perform the same feature engineering, scaling factors, log/any transformation steps which you used for training ml model and predict this new data from streamlit and display the output.\n",
        "7. Tips: Use pickle module to dump and load models such as encoder(onehot/ label/ str.cat.codes /etc), scaling models(standard scaler), ML models. First fit and then transform in separate line and use transform only for unseen data\n",
        "Eg: scaler = StandardScaler()\n",
        "scaler.fit(X_train)\n",
        "scaler.transform(X_train)\n",
        "scaler.transform(X_test_new) #unseen data\n"
      ]
    },
    {
      "cell_type": "code",
      "execution_count": null,
      "metadata": {},
      "outputs": [],
      "source": [
        "!pip install pandas\n",
        "!pip install numpy\n",
        "!pip install openpyxl\n",
        "!pip install seaborn"
      ]
    },
    {
      "cell_type": "code",
      "execution_count": null,
      "metadata": {
        "id": "Mm9t-raWZc_6"
      },
      "outputs": [],
      "source": [
        "import pandas as pd\n",
        "import numpy as np\n",
        "import matplotlib.pyplot as plt\n",
        "import seaborn as sns"
      ]
    },
    {
      "cell_type": "code",
      "execution_count": null,
      "metadata": {
        "id": "wMTskHScZ230"
      },
      "outputs": [],
      "source": [
        "excel_file_path = 'copper_data_set.xlsx'\n",
        "\n",
        "# Specify the sheet name or index\n",
        "sheet_name_or_index = 'Result 1'  # or use 0 for the first sheet\n",
        "\n",
        "# Read the Excel file with a specific sheet into a Pandas DataFrame\n",
        "df = pd.read_excel(excel_file_path, sheet_name=sheet_name_or_index)\n"
      ]
    },
    {
      "cell_type": "code",
      "execution_count": null,
      "metadata": {
        "colab": {
          "base_uri": "https://localhost:8080/",
          "height": 486
        },
        "id": "B1w2BWe_Xfvg",
        "outputId": "a95c2c1f-f6a2-48ba-a960-b74896f16a4b"
      },
      "outputs": [],
      "source": [
        "# Display the first few rows of the DataFrame\n",
        "\n",
        "df.head()\n"
      ]
    },
    {
      "cell_type": "code",
      "execution_count": null,
      "metadata": {
        "colab": {
          "base_uri": "https://localhost:8080/"
        },
        "id": "DY3i6Unlib11",
        "outputId": "10e51d73-542a-4fa3-f99a-c989b87f4696"
      },
      "outputs": [],
      "source": [
        "# Total number of records in the data set\n",
        "\n",
        "len(df)"
      ]
    },
    {
      "cell_type": "code",
      "execution_count": null,
      "metadata": {
        "colab": {
          "base_uri": "https://localhost:8080/"
        },
        "id": "ZSR_ZU1TdXry",
        "outputId": "b49363bf-0768-40ca-a21f-f555ef53abb5"
      },
      "outputs": [],
      "source": [
        "# Display the info of the DataFrame\n",
        "\n",
        "df.info()"
      ]
    },
    {
      "cell_type": "markdown",
      "metadata": {
        "id": "WgP1MKgziH8S"
      },
      "source": [
        "**Inference:**\n",
        "1. Total number of records: 181673\n",
        "2. item_date field is in float64 Dtype which needs to be converted into date Dtype\n",
        "3.\n"
      ]
    },
    {
      "cell_type": "code",
      "execution_count": null,
      "metadata": {
        "id": "AhP5OqAMoh6I"
      },
      "outputs": [],
      "source": [
        "# Create a copy to avoid modifying the original DataFrame\n",
        "cleaned_df = df.copy()"
      ]
    },
    {
      "cell_type": "code",
      "execution_count": null,
      "metadata": {
        "colab": {
          "base_uri": "https://localhost:8080/",
          "height": 486
        },
        "id": "phs5lHZlolgD",
        "outputId": "f02a8013-83fb-4fe6-8403-80bedd62ba03"
      },
      "outputs": [],
      "source": [
        "cleaned_df.head()"
      ]
    },
    {
      "cell_type": "code",
      "execution_count": null,
      "metadata": {},
      "outputs": [],
      "source": [
        "cleaned_df['item_date'] = pd.to_datetime(cleaned_df['item_date'], format='%Y%m%d', errors='coerce')\n"
      ]
    },
    {
      "cell_type": "code",
      "execution_count": null,
      "metadata": {
        "colab": {
          "base_uri": "https://localhost:8080/",
          "height": 504
        },
        "id": "TOmVv94qu_On",
        "outputId": "487bbc6d-36e4-48cd-fa46-1b9ba94a4712"
      },
      "outputs": [],
      "source": [
        "\n",
        "cleaned_df.sort_values(by='item_date', ascending=False, inplace=True)\n",
        "cleaned_df.tail()"
      ]
    },
    {
      "cell_type": "code",
      "execution_count": null,
      "metadata": {
        "id": "ibJ56Inp0D15"
      },
      "outputs": [],
      "source": [
        "# Uniform date format\n",
        "\n",
        "cleaned_df['delivery date'] = pd.to_datetime(cleaned_df['delivery date'], format='%Y%m%d', errors='coerce')"
      ]
    },
    {
      "cell_type": "code",
      "execution_count": null,
      "metadata": {
        "colab": {
          "base_uri": "https://localhost:8080/",
          "height": 469
        },
        "id": "wtQZ_68MtQN4",
        "outputId": "8a046235-1edb-4052-8942-f5a4ea2a1adc"
      },
      "outputs": [],
      "source": [
        "cleaned_df.sort_values(by='delivery date', ascending=False, inplace=True)\n",
        "cleaned_df.head()"
      ]
    },
    {
      "cell_type": "code",
      "execution_count": null,
      "metadata": {
        "id": "d-hX1oxYoojx"
      },
      "outputs": [],
      "source": [
        "# Handling missing values\n",
        "cleaned_df.dropna(inplace=True)"
      ]
    },
    {
      "cell_type": "code",
      "execution_count": null,
      "metadata": {
        "colab": {
          "base_uri": "https://localhost:8080/"
        },
        "id": "d_Wb25JLo1Br",
        "outputId": "6a379a19-49b7-4c78-a503-84c7b846cc9a"
      },
      "outputs": [],
      "source": [
        "cleaned_df.info()"
      ]
    },
    {
      "cell_type": "code",
      "execution_count": null,
      "metadata": {
        "id": "bEKvR2nao4IU"
      },
      "outputs": [],
      "source": [
        "# Handling duplicate rows\n",
        "cleaned_df.drop_duplicates(inplace=True)"
      ]
    },
    {
      "cell_type": "code",
      "execution_count": null,
      "metadata": {
        "colab": {
          "base_uri": "https://localhost:8080/"
        },
        "id": "np7oH0uwpJQm",
        "outputId": "cf4f592a-a5c0-4d74-a446-7fee93b3291b"
      },
      "outputs": [],
      "source": [
        "cleaned_df.info()"
      ]
    },
    {
      "cell_type": "code",
      "execution_count": null,
      "metadata": {
        "id": "gqqLBEfJpdgK"
      },
      "outputs": [],
      "source": [
        "# Handling outliers (consider replacing 3 with the appropriate threshold)\n",
        "cleaned_df = cleaned_df[(cleaned_df['quantity tons'].between(cleaned_df['quantity tons'].quantile(0.01), cleaned_df['quantity tons'].quantile(0.99))) &\n",
        "                        (cleaned_df['thickness'].between(cleaned_df['thickness'].quantile(0.01), cleaned_df['thickness'].quantile(0.99)))]"
      ]
    },
    {
      "cell_type": "code",
      "execution_count": null,
      "metadata": {
        "colab": {
          "base_uri": "https://localhost:8080/"
        },
        "id": "McOVPnsdqrYr",
        "outputId": "3ee9441d-276b-4942-861e-46c586d80fc5"
      },
      "outputs": [],
      "source": [
        "# Checking for consistency in categorization\n",
        "# Assuming 'status', 'item_type', 'application' are categorical columns\n",
        "cleaned_df['status'] = cleaned_df['status'].astype('category')\n",
        "cleaned_df['item type'] = cleaned_df['item type'].astype('category')\n",
        "cleaned_df['application'] = cleaned_df['application'].astype('category')"
      ]
    },
    {
      "cell_type": "code",
      "execution_count": null,
      "metadata": {
        "colab": {
          "base_uri": "https://localhost:8080/"
        },
        "id": "sbrv4OvhrU6P",
        "outputId": "3a9b2093-a942-4e46-ee65-4989e0bf68f1"
      },
      "outputs": [],
      "source": [
        "# Some rubbish values are present in ‘Material_Reference’ which starts with ‘00000’ value which should be converted into null\n",
        "cleaned_df['material_ref'] = cleaned_df['material_ref'].apply(lambda x: None if str(x).startswith('0000') else x)\n"
      ]
    },
    {
      "cell_type": "code",
      "execution_count": null,
      "metadata": {
        "colab": {
          "base_uri": "https://localhost:8080/"
        },
        "id": "laHytakCrxw1",
        "outputId": "c9322851-2624-4006-c8d7-938aeec3fcec"
      },
      "outputs": [],
      "source": [
        "# material_ref - is a category\n",
        "cleaned_df['material_ref'] = cleaned_df['material_ref'].astype('category')"
      ]
    },
    {
      "cell_type": "code",
      "execution_count": null,
      "metadata": {
        "colab": {
          "base_uri": "https://localhost:8080/"
        },
        "id": "XANiy17dr8ON",
        "outputId": "5d6586d2-94bd-4aa3-e556-0df205236103"
      },
      "outputs": [],
      "source": [
        "# Display basic statistics\n",
        "\n",
        "cleaned_df.describe()"
      ]
    },
    {
      "cell_type": "code",
      "execution_count": 18,
      "metadata": {},
      "outputs": [],
      "source": [
        "# Visualize skewness\n",
        "sns.displot(cleaned_df['quantity tons'], kde=True)\n",
        "plt.title('Distribution of Quantity Tons')\n",
        "plt.show()"
      ]
    },
    {
      "cell_type": "code",
      "execution_count": null,
      "metadata": {},
      "outputs": [],
      "source": [
        "# Visualize outliers using boxplot\n",
        "sns.boxplot(x=cleaned_df['quantity tons'])\n",
        "plt.title('Boxplot of Quantity Tons')\n",
        "plt.show()"
      ]
    },
    {
      "cell_type": "code",
      "execution_count": null,
      "metadata": {},
      "outputs": [],
      "source": [
        "\n",
        "# Identify the row causing the issue\n",
        "problematic_row = cleaned_df.iloc[173086]\n",
        "\n",
        "# Print the values in the problematic row\n",
        "print(problematic_row)"
      ]
    }
  ],
  "metadata": {
    "colab": {
      "authorship_tag": "ABX9TyPErdwwaLY7+1aP8LzwRTYc",
      "include_colab_link": true,
      "provenance": []
    },
    "kernelspec": {
      "display_name": "Python 3",
      "name": "python3"
    },
    "language_info": {
      "codemirror_mode": {
        "name": "ipython",
        "version": 3
      },
      "file_extension": ".py",
      "mimetype": "text/x-python",
      "name": "python",
      "nbconvert_exporter": "python",
      "pygments_lexer": "ipython3",
      "version": "3.12.0"
    }
  },
  "nbformat": 4,
  "nbformat_minor": 0
}
